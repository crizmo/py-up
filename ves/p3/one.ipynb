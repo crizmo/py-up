{
 "cells": [
  {
   "cell_type": "code",
   "execution_count": 1,
   "metadata": {},
   "outputs": [
    {
     "name": "stdout",
     "output_type": "stream",
     "text": [
      "Merged List: [1, 1, 2, 3, 3, 4, 5, 5, 6, 9]\n",
      "Second Largest Element: 6\n"
     ]
    }
   ],
   "source": [
    "# 1. To merge two list and find second largest element in the list using bubble sort \n",
    "list1 = [3, 1, 4, 1, 5]\n",
    "list2 = [9, 2, 6, 5, 3]\n",
    "\n",
    "merged_list = list1 + list2\n",
    "\n",
    "n = len(merged_list)\n",
    "for i in range(n):\n",
    "    for j in range(0, n-i-1):\n",
    "        if merged_list[j] > merged_list[j+1]:\n",
    "            merged_list[j], merged_list[j+1] = merged_list[j+1], merged_list[j]\n",
    "\n",
    "second_largest = merged_list[-2]\n",
    "\n",
    "print(\"Merged List:\", merged_list)\n",
    "print(\"Second Largest Element:\", second_largest)"
   ]
  },
  {
   "cell_type": "code",
   "execution_count": 2,
   "metadata": {},
   "outputs": [
    {
     "name": "stdout",
     "output_type": "stream",
     "text": [
      "Uppercase: 2\n",
      "Lowercase: 8\n",
      "Digits: 3\n"
     ]
    }
   ],
   "source": [
    "# 2.To calculate the no of uppercase ,lowercase letters and digits in a string\n",
    "\n",
    "string = \"Hello World! 123\"\n",
    "\n",
    "upper = 0\n",
    "lower = 0\n",
    "digit = 0\n",
    "\n",
    "for char in string:\n",
    "    if char.isupper():\n",
    "        upper += 1\n",
    "    elif char.islower():\n",
    "        lower += 1\n",
    "    elif char.isdigit():\n",
    "        digit += 1\n",
    "\n",
    "print(\"Uppercase:\", upper)\n",
    "print(\"Lowercase:\", lower)\n",
    "print(\"Digits:\", digit)\n"
   ]
  },
  {
   "cell_type": "code",
   "execution_count": 3,
   "metadata": {},
   "outputs": [
    {
     "name": "stdout",
     "output_type": "stream",
     "text": [
      "Word Count: {'Hello': 2, 'World!': 1, 'Python!': 1, 'Python': 2}\n"
     ]
    }
   ],
   "source": [
    "# 3. To count the occurrences of each word in a given string sentence\n",
    "sentence = \"Hello World! Hello Python! Python Python\"\n",
    "\n",
    "words = sentence.split()\n",
    "\n",
    "word_count = {}\n",
    "for word in words:\n",
    "    if word in word_count:\n",
    "        word_count[word] += 1\n",
    "    else:\n",
    "        word_count[word] = 1\n",
    "\n",
    "print(\"Word Count:\", word_count)\n"
   ]
  },
  {
   "cell_type": "code",
   "execution_count": 4,
   "metadata": {},
   "outputs": [
    {
     "name": "stdout",
     "output_type": "stream",
     "text": [
      "Updated Dictionary: {'name': 'Doe', 'age': 30}\n",
      "Key removed from dictionary\n"
     ]
    }
   ],
   "source": [
    "# 4.To add key value pair to the dictionary and search and then delete the given key from the dictionary \n",
    "dictionary = {\n",
    "    \"name\": \"John\",\n",
    "    \"age\": 30\n",
    "}\n",
    "\n",
    "key = \"name\"\n",
    "value = \"Doe\"\n",
    "\n",
    "dictionary[key] = value\n",
    "print(\"Updated Dictionary:\", dictionary)\n",
    "\n",
    "key = \"name\"\n",
    "if key in dictionary:\n",
    "    del dictionary[key]\n",
    "    print(\"Key removed from dictionary\")\n",
    "else:\n",
    "    print(\"Key not found in dictionary\")\n",
    "    "
   ]
  },
  {
   "cell_type": "code",
   "execution_count": 5,
   "metadata": {},
   "outputs": [
    {
     "name": "stdout",
     "output_type": "stream",
     "text": [
      "Students: {'student1': {'name': 'John', 'address': '123 Street', 'age': 20, 'class': 'XII', 'marks': [80, 90, 85, 88, 92]}, 'student2': {'name': 'Doe', 'address': '456 Street', 'age': 21, 'class': 'XII', 'marks': [85, 88, 92, 90, 80]}, 'student3': {'name': 'Smith', 'address': '789 Street', 'age': 22, 'class': 'XII', 'marks': [90, 85, 88, 92, 80]}, 'student4': {'name': 'Alex', 'address': '012 Street', 'age': 23, 'class': 'XII', 'marks': [88, 92, 90, 85, 80]}, 'student5': {'name': 'Alice', 'address': '345 Street', 'age': 24, 'class': 'XII', 'marks': [92, 90, 85, 88, 80]}}\n",
      "Student: {'name': 'John', 'address': '123 Street', 'age': 20, 'class': 'XII', 'marks': [80, 90, 85, 88, 92]}\n",
      "Address: 456 Street\n",
      "Key removed from student\n",
      "Marks: [88, 92, 90, 85, 80]\n",
      "Key updated in student\n",
      "Students: {'student1': {'name': 'John', 'address': '123 Street', 'age': 20, 'class': 'XII', 'marks': [80, 90, 85, 88, 92]}, 'student2': {'name': 'Doe', 'address': '456 Street', 'age': 21, 'class': 'XII', 'marks': [85, 88, 92, 90, 80]}, 'student3': {'name': 'Smith', 'address': '789 Street', 'class': 'XII', 'marks': [90, 85, 88, 92, 80]}, 'student4': {'name': 'Alex', 'address': '012 Street', 'age': 23, 'class': 'XII', 'marks': [88, 92, 90, 85, 80]}, 'student5': {'name': 'Alice', 'address': '345 Street', 'age': 24, 'class': 'X', 'marks': [92, 90, 85, 88, 80]}}\n"
     ]
    }
   ],
   "source": [
    "# 5. Create one dictionary of 5 students with their name, address, age, class and marks of 5 subjects. Perform all the operations on the created dictionary\n",
    "students = {\n",
    "    \"student1\": {\n",
    "        \"name\": \"John\",\n",
    "        \"address\": \"123 Street\",\n",
    "        \"age\": 20,\n",
    "        \"class\": \"XII\",\n",
    "        \"marks\": [80, 90, 85, 88, 92]\n",
    "    },\n",
    "    \"student2\": {\n",
    "        \"name\": \"Doe\",\n",
    "        \"address\": \"456 Street\",\n",
    "        \"age\": 21,\n",
    "        \"class\": \"XII\",\n",
    "        \"marks\": [85, 88, 92, 90, 80]\n",
    "    },\n",
    "    \"student3\": {\n",
    "        \"name\": \"Smith\",\n",
    "        \"address\": \"789 Street\",\n",
    "        \"age\": 22,\n",
    "        \"class\": \"XII\",\n",
    "        \"marks\": [90, 85, 88, 92, 80]\n",
    "    },\n",
    "    \"student4\": {\n",
    "        \"name\": \"Alex\",\n",
    "        \"address\": \"012 Street\",\n",
    "        \"age\": 23,\n",
    "        \"class\": \"XII\",\n",
    "        \"marks\": [88, 92, 90, 85, 80]\n",
    "    },\n",
    "    \"student5\": {\n",
    "        \"name\": \"Alice\",\n",
    "        \"address\": \"345 Street\",\n",
    "        \"age\": 24,\n",
    "        \"class\": \"XII\",\n",
    "        \"marks\": [92, 90, 85, 88, 80]\n",
    "    }\n",
    "}\n",
    "\n",
    "print(\"Students:\", students)\n",
    "\n",
    "student = \"student1\"\n",
    "print(\"Student:\", students[student])\n",
    "\n",
    "student = \"student2\"\n",
    "key = \"address\"\n",
    "if key in students[student]:\n",
    "    print(\"Address:\", students[student][key])\n",
    "else:\n",
    "    print(\"Key not found in student\")\n",
    "\n",
    "student = \"student3\"\n",
    "key = \"age\"\n",
    "\n",
    "if key in students[student]:\n",
    "    del students[student][key]\n",
    "    print(\"Key removed from student\")\n",
    "else:\n",
    "    print(\"Key not found in student\")\n",
    "\n",
    "student = \"student4\"\n",
    "key = \"marks\"\n",
    "if key in students[student]:\n",
    "    print(\"Marks:\", students[student][key])\n",
    "else:\n",
    "    print(\"Key not found in student\")\n",
    "\n",
    "student = \"student5\"\n",
    "key = \"class\"\n",
    "\n",
    "if key in students[student]:\n",
    "    students[student][key] = \"X\"\n",
    "    print(\"Key updated in student\")\n",
    "else:\n",
    "    print(\"Key not found in student\")\n",
    "\n",
    "print(\"Students:\", students)\n",
    "\n"
   ]
  },
  {
   "cell_type": "code",
   "execution_count": 6,
   "metadata": {},
   "outputs": [
    {
     "name": "stdout",
     "output_type": "stream",
     "text": [
      "Concatenated Dictionary: {'a': 400, 'b': 400, 'c': 300, 'd': 400}\n",
      "Sum of all values in dictionary: 1500\n"
     ]
    }
   ],
   "source": [
    "# 6.To concatenate two dictionaries and find sum of all values in dictionary\n",
    "dict1 = {\n",
    "    \"a\": 100,\n",
    "    \"b\": 200,\n",
    "    \"c\": 300\n",
    "}\n",
    "\n",
    "dict2 = {\n",
    "    \"a\": 300,\n",
    "    \"b\": 200,\n",
    "    \"d\": 400\n",
    "}\n",
    "\n",
    "dict3 = {}\n",
    "\n",
    "for key in dict1:\n",
    "    if key in dict2:\n",
    "        dict3[key] = dict1[key] + dict2[key]\n",
    "    else:\n",
    "        dict3[key] = dict1[key]\n",
    "\n",
    "for key in dict2:\n",
    "    if key not in dict3:\n",
    "        dict3[key] = dict2[key]\n",
    "\n",
    "print(\"Concatenated Dictionary:\", dict3)\n",
    "\n",
    "sum_values = sum(dict3.values())\n",
    "print(\"Sum of all values in dictionary:\", sum_values)"
   ]
  },
  {
   "cell_type": "code",
   "execution_count": 7,
   "metadata": {},
   "outputs": [
    {
     "name": "stdout",
     "output_type": "stream",
     "text": [
      "Set1: {1, 2, 3, 4, 5, 6}\n",
      "Set2: {4, 5, 6, 7}\n",
      "Union: {1, 2, 3, 4, 5, 6, 7}\n",
      "Intersection: {4, 5, 6}\n",
      "Difference: {1, 2, 3}\n",
      "Symmetric Difference: {1, 2, 3, 7}\n"
     ]
    }
   ],
   "source": [
    "# 7.To add and remove elements from set and perform all the set operations like Union, Intersection, Difference and Symmetric Difference\n",
    "set1 = {1, 2, 3, 4, 5}\n",
    "set2 = {4, 5, 6, 7, 8}\n",
    "\n",
    "set1.add(6)\n",
    "print(\"Set1:\", set1)\n",
    "\n",
    "set2.remove(8)\n",
    "print(\"Set2:\", set2)\n",
    "\n",
    "union = set1.union(set2)\n",
    "print(\"Union:\", union)\n",
    "\n",
    "intersection = set1.intersection(set2)\n",
    "print(\"Intersection:\", intersection)\n",
    "\n",
    "difference = set1.difference(set2)\n",
    "print(\"Difference:\", difference)\n",
    "\n",
    "symmetric_difference = set1.symmetric_difference(set2)\n",
    "print(\"Symmetric Difference:\", symmetric_difference)\n"
   ]
  },
  {
   "cell_type": "code",
   "execution_count": 8,
   "metadata": {},
   "outputs": [
    {
     "name": "stdout",
     "output_type": "stream",
     "text": [
      "Tuple3: (1, 2, 3, 4, 5, 6, 7, 8, 9, 10)\n",
      "Tuple1 Length: 5\n",
      "Tuple2 Length: 5\n",
      "Tuple3 Length: 10\n",
      "Tuple1 Minimum: 1\n",
      "Tuple2 Maximum: 10\n",
      "Tuple1 Count of 3: 1\n",
      "Tuple2 Index of 8: 2\n"
     ]
    }
   ],
   "source": [
    "# 8.Perform different operations on Tuple.\n",
    "tuple1 = (1, 2, 3, 4, 5)\n",
    "tuple2 = (6, 7, 8, 9, 10)\n",
    "\n",
    "tuple3 = tuple1 + tuple2\n",
    "print(\"Tuple3:\", tuple3)\n",
    "\n",
    "print(\"Tuple1 Length:\", len(tuple1))\n",
    "print(\"Tuple2 Length:\", len(tuple2))\n",
    "print(\"Tuple3 Length:\", len(tuple3))\n",
    "\n",
    "print(\"Tuple1 Minimum:\", min(tuple1))\n",
    "print(\"Tuple2 Maximum:\", max(tuple2))\n",
    "\n",
    "print(\"Tuple1 Count of 3:\", tuple1.count(3))\n",
    "print(\"Tuple2 Index of 8:\", tuple2.index(8))\n",
    "\n"
   ]
  },
  {
   "cell_type": "code",
   "execution_count": 9,
   "metadata": {},
   "outputs": [
    {
     "name": "stdout",
     "output_type": "stream",
     "text": [
      "Count: 3\n"
     ]
    }
   ],
   "source": [
    "# 9.Write a Python program to count the elements in a list until an element is a tuple.\n",
    "list1 = [1, 2, 3, (4, 5), 6, 7, 8, 9]\n",
    "\n",
    "count = 0\n",
    "for item in list1:\n",
    "    if isinstance(item, tuple):\n",
    "        break\n",
    "    count += 1\n",
    "\n",
    "print(\"Count:\", count)"
   ]
  }
 ],
 "metadata": {
  "kernelspec": {
   "display_name": "Python 3",
   "language": "python",
   "name": "python3"
  },
  "language_info": {
   "codemirror_mode": {
    "name": "ipython",
    "version": 3
   },
   "file_extension": ".py",
   "mimetype": "text/x-python",
   "name": "python",
   "nbconvert_exporter": "python",
   "pygments_lexer": "ipython3",
   "version": "3.10.12"
  }
 },
 "nbformat": 4,
 "nbformat_minor": 2
}
