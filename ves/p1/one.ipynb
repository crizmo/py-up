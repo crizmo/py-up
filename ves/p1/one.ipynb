{
 "cells": [
  {
   "cell_type": "code",
   "execution_count": 1,
   "metadata": {},
   "outputs": [],
   "source": [
    "# To write, test, and debug Basic Python programs.\n",
    "# Add Three Numbers\n",
    "# To Solve Quadratic equation\n",
    "# To use Bitwise operators.\n",
    "# To compute compound interest given all the required values.\n",
    "# To generate a random number between 0 and 190\n",
    "# To display calendar for the January 2020\n",
    "# To add two binary number"
   ]
  },
  {
   "cell_type": "code",
   "execution_count": 2,
   "metadata": {},
   "outputs": [
    {
     "name": "stdout",
     "output_type": "stream",
     "text": [
      "The sum of a, b, and c is: 6\n"
     ]
    }
   ],
   "source": [
    "# Add Three Numbers\n",
    "def add(a, b, c):\n",
    "    return a + b + c\n",
    "\n",
    "a, b, c = map(int, input(\"Enter values of a, b, and c: \").split())\n",
    "\n",
    "print(\"The sum of a, b, and c is:\", add(a, b, c))"
   ]
  },
  {
   "cell_type": "code",
   "execution_count": 5,
   "metadata": {},
   "outputs": [
    {
     "name": "stdout",
     "output_type": "stream",
     "text": [
      "Solutions: (2.0, 1.0)\n"
     ]
    }
   ],
   "source": [
    "# To Solve Quadratic equation\n",
    "import math\n",
    "\n",
    "def solve_quadratic(a, b, c):\n",
    "    d = b**2 - 4*a*c\n",
    "    if d > 0:\n",
    "        return ((-b + math.sqrt(d)) / (2*a), (-b - math.sqrt(d)) / (2*a))\n",
    "    elif d == 0:\n",
    "        return (-b / (2*a), -b / (2*a))\n",
    "    else:\n",
    "        return (complex(-b / (2*a), math.sqrt(-d) / (2*a)), complex(-b / (2*a), -math.sqrt(-d) / (2*a)))\n",
    "\n",
    "a, b, c = map(int, input(\"Enter values of a, b, and c: \").split())\n",
    "solutions = solve_quadratic(a, b, c)\n",
    "print(\"Solutions:\", solutions)\n"
   ]
  },
  {
   "cell_type": "code",
   "execution_count": 11,
   "metadata": {},
   "outputs": [
    {
     "name": "stdout",
     "output_type": "stream",
     "text": [
      "Bitwise AND: 1\n",
      "Bitwise OR: 7\n",
      "Bitwise XOR: 6\n",
      "Bitwise NOT: -6\n",
      "Bitwise Left Shift: 20\n",
      "Bitwise Right Shift: 1\n"
     ]
    }
   ],
   "source": [
    "# To use Bitwise operators.\n",
    "a = 5\n",
    "b = 3\n",
    "\n",
    "print(\"Bitwise AND:\", a & b)\n",
    "\n",
    "print(\"Bitwise OR:\", a | b)\n",
    "\n",
    "print(\"Bitwise XOR:\", a ^ b)\n",
    "\n",
    "print(\"Bitwise NOT:\", ~a)\n",
    "\n",
    "print(\"Bitwise Left Shift:\", a << 2)\n",
    "\n",
    "print(\"Bitwise Right Shift:\", a >> 2)"
   ]
  },
  {
   "cell_type": "code",
   "execution_count": 14,
   "metadata": {},
   "outputs": [
    {
     "name": "stdout",
     "output_type": "stream",
     "text": [
      "The final amount after 5 years is: 1221.00\n",
      "The final amount after 10.0 years is: 46901.61\n"
     ]
    }
   ],
   "source": [
    "# To compute compound interest given all the required values.\n",
    "def compound_interest(principal, rate, time, n=1):\n",
    "    return principal * (1 + rate / n) ** (n * time)\n",
    "\n",
    "principal = 1000\n",
    "rate = 0.04\n",
    "time = 5\n",
    "n = 12\n",
    "\n",
    "final_amount = compound_interest(principal, rate, time, n)\n",
    "print(f\"The final amount after {time} years is: {final_amount:.2f}\")\n",
    "\n",
    "principle, rate, time, n = map(float, input(\"Enter values of principle, rate, time, n: \").split())\n",
    "\n",
    "final_amount = compound_interest(principal, rate, time, n)\n",
    "print(f\"The final amount after {time} years is: {final_amount:.2f}\")"
   ]
  },
  {
   "cell_type": "code",
   "execution_count": 8,
   "metadata": {},
   "outputs": [
    {
     "name": "stdout",
     "output_type": "stream",
     "text": [
      "Random number: 108\n"
     ]
    }
   ],
   "source": [
    "import random\n",
    "\n",
    "random_number = random.randint(0, 190)\n",
    "print(f\"Random number: {random_number}\")"
   ]
  },
  {
   "cell_type": "code",
   "execution_count": 15,
   "metadata": {},
   "outputs": [
    {
     "name": "stdout",
     "output_type": "stream",
     "text": [
      "    January 2020\n",
      "Mo Tu We Th Fr Sa Su\n",
      "       1  2  3  4  5\n",
      " 6  7  8  9 10 11 12\n",
      "13 14 15 16 17 18 19\n",
      "20 21 22 23 24 25 26\n",
      "27 28 29 30 31\n",
      "\n"
     ]
    }
   ],
   "source": [
    "import calendar\n",
    "\n",
    "print(calendar.month(2020, 1))"
   ]
  },
  {
   "cell_type": "code",
   "execution_count": 21,
   "metadata": {},
   "outputs": [
    {
     "name": "stdout",
     "output_type": "stream",
     "text": [
      "The sum of 1010 and 1100 is: 10110\n",
      "The sum of 1111 and 1010 is: 11001\n"
     ]
    }
   ],
   "source": [
    "def add_binary(a, b):\n",
    "    int_a = int(a, 2)\n",
    "    int_b = int(b, 2)\n",
    "\n",
    "    sum = int_a + int_b\n",
    "\n",
    "    binary_sum = bin(sum)[2:]\n",
    "\n",
    "    return binary_sum\n",
    "\n",
    "binary_num1 = \"1010\"\n",
    "binary_num2 = \"1100\"\n",
    "\n",
    "result = add_binary(binary_num1, binary_num2)\n",
    "print(f\"The sum of {binary_num1} and {binary_num2} is: {result}\")\n",
    "\n",
    "binary_num1 = input(\"Enter values of number 1 :\")\n",
    "binary_num2 = input(\"Enter values of number 2 :\")\n",
    "\n",
    "result = add_binary(binary_num1, binary_num2)\n",
    "print(f\"The sum of {binary_num1} and {binary_num2} is: {result}\")\n",
    "\n"
   ]
  }
 ],
 "metadata": {
  "kernelspec": {
   "display_name": "Python 3",
   "language": "python",
   "name": "python3"
  },
  "language_info": {
   "codemirror_mode": {
    "name": "ipython",
    "version": 3
   },
   "file_extension": ".py",
   "mimetype": "text/x-python",
   "name": "python",
   "nbconvert_exporter": "python",
   "pygments_lexer": "ipython3",
   "version": "3.10.2"
  }
 },
 "nbformat": 4,
 "nbformat_minor": 2
}
